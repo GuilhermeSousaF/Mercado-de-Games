{
 "cells": [
  {
   "cell_type": "markdown",
   "metadata": {},
   "source": [
    "# <div style=\"text-align:center; border-radius:15px 50px; padding:15px; color:white; margin:0; font-size:150%; font-family:Pacifico; background-color:#2a6199; overflow:hidden\"><b> Mercado dos Games </b></div>\n"
   ]
  },
  {
   "cell_type": "markdown",
   "metadata": {},
   "source": [
    "![student](https://img.freepik.com/vetores-gratis/videogame-youtube-cover_23-2148607716.jpg?t=st=1721053269~exp=1721056869~hmac=3edf0ad3c28bea36364115e2ae796e05ee211367304093ca8dbc65cacfc11f60&w=826)"
   ]
  },
  {
   "cell_type": "markdown",
   "metadata": {},
   "source": [
    "- <a href=\"#Intro\">1. Introdução</a>\n",
    "- <a href=\"#biblioteca\">2. Instalando bibliotecas necessárias</a>\n",
    "- <a href=\"#lendo\">3. Lendo e compreendendo nossos dados</a>\n",
    "- <a href=\"#Visual\">4. Visualizando nossos dados</a>\n",
    "    - <a href=\"#41\">4.1. Quais jogos de gênero foram mais produzidos?</a>  \n",
    "    - <a href=\"#42\">4.2 Qual ano teve mais lançamentos de jogos?</a>\n",
    "    - <a href=\"#43\">4.3 Principais jogos lançados por gênero nesses 5 anos.</a>\n",
    "    - <a href=\"#44\">4.4 Qual ano teve as maiores vendas em todo o mundo?</a>    \n",
    "- <a href=\"#Limitacoes\">5.Identificando limitações</a>\n",
    "- <a href=\"#Medias\">6. Comparação das médias</a> \n",
    "- <a href=\"#Confianca\">7. Intervalo de Confiança</a> \n",
    "- <a href=\"#Anova\">8. Anova </a> \n",
    "- <a href=\"#Regressao\">9. Regressão Linear</a>"
   ]
  },
  {
   "cell_type": "markdown",
   "metadata": {},
   "source": [
    "<a id=\"Intro\"></a> <br>\n",
    "# <div style=\"text-align:center; border-radius:15px 50px; padding:7px; color:white; margin:0; font-size:110%; font-family:Pacifico; background-color:#3168a1;overflow:hidden\"><b>1. Introdução</b></div>"
   ]
  },
  {
   "cell_type": "markdown",
   "metadata": {},
   "source": [
    "<h5>O mercado de games é uma das indústrias de entretenimento mais dinâmicas e lucrativas do mundo, movimentando bilhões de dólares anualmente. Este setor é caracterizado por uma diversidade impressionante de plataformas e gêneros de jogos, cada um com suas particularidades e apelos únicos a diferentes públicos ao redor do globo. Com o avanço da tecnologia, a acessibilidade crescente e a inovação constante, o mercado de games continua a expandir-se e evoluir rapidamente.<h5>"
   ]
  },
  {
   "cell_type": "markdown",
   "metadata": {},
   "source": [
    "<a id=\"biblioteca\"></a>\n",
    "# <div style=\"text-align:center; border-radius:15px 50px; padding:7px; color:white; margin:0; font-size:110%; font-family:Pacifico; background-color:#3168a1;overflow:hidden\"><b>2. Instalando bibliotecas necessárias</b></div>"
   ]
  },
  {
   "cell_type": "code",
   "execution_count": 83,
   "metadata": {},
   "outputs": [],
   "source": [
    "import pandas as pd\n",
    "import matplotlib.pyplot as plt\n",
    "import seaborn as sns\n",
    "import numpy as np\n",
    "from scipy.stats import ttest_ind\n",
    "from scipy.stats import norm\n",
    "from scipy.stats import f_oneway\n",
    "from statsmodels.formula.api import ols\n",
    "import plotly.graph_objs as go\n",
    "import statsmodels.api as sm\n",
    "from sklearn.preprocessing import StandardScaler\n",
    "from scipy import stats\n",
    "\n",
    "sns.set(style=\"whitegrid\")"
   ]
  },
  {
   "cell_type": "markdown",
   "metadata": {},
   "source": [
    "<a id=\"lendo\"></a>\n",
    "# <div style=\"text-align:center; border-radius:15px 50px; padding:7px; color:white; margin:0; font-size:110%; font-family:Pacifico; background-color:#3168a1;overflow:hidden\"><b>3. Lendo e compreendendo nossos dados</b></div>"
   ]
  },
  {
   "cell_type": "code",
   "execution_count": 84,
   "metadata": {},
   "outputs": [
    {
     "data": {
      "text/html": [
       "<div>\n",
       "<style scoped>\n",
       "    .dataframe tbody tr th:only-of-type {\n",
       "        vertical-align: middle;\n",
       "    }\n",
       "\n",
       "    .dataframe tbody tr th {\n",
       "        vertical-align: top;\n",
       "    }\n",
       "\n",
       "    .dataframe thead th {\n",
       "        text-align: right;\n",
       "    }\n",
       "</style>\n",
       "<table border=\"1\" class=\"dataframe\">\n",
       "  <thead>\n",
       "    <tr style=\"text-align: right;\">\n",
       "      <th></th>\n",
       "      <th>Name</th>\n",
       "      <th>Platform</th>\n",
       "      <th>Year</th>\n",
       "      <th>Genre</th>\n",
       "      <th>Publisher</th>\n",
       "      <th>NA_Sales</th>\n",
       "      <th>EU_Sales</th>\n",
       "      <th>JP_Sales</th>\n",
       "      <th>Other_Sales</th>\n",
       "      <th>Global_Sales</th>\n",
       "    </tr>\n",
       "  </thead>\n",
       "  <tbody>\n",
       "    <tr>\n",
       "      <th>0</th>\n",
       "      <td>Wii Sports</td>\n",
       "      <td>Wii</td>\n",
       "      <td>2006.0</td>\n",
       "      <td>Sports</td>\n",
       "      <td>Nintendo</td>\n",
       "      <td>41.49</td>\n",
       "      <td>29.02</td>\n",
       "      <td>3.77</td>\n",
       "      <td>8.46</td>\n",
       "      <td>82.74</td>\n",
       "    </tr>\n",
       "    <tr>\n",
       "      <th>1</th>\n",
       "      <td>Super Mario Bros.</td>\n",
       "      <td>NES</td>\n",
       "      <td>1985.0</td>\n",
       "      <td>Platform</td>\n",
       "      <td>Nintendo</td>\n",
       "      <td>29.08</td>\n",
       "      <td>3.58</td>\n",
       "      <td>6.81</td>\n",
       "      <td>0.77</td>\n",
       "      <td>40.24</td>\n",
       "    </tr>\n",
       "    <tr>\n",
       "      <th>2</th>\n",
       "      <td>Mario Kart Wii</td>\n",
       "      <td>Wii</td>\n",
       "      <td>2008.0</td>\n",
       "      <td>Racing</td>\n",
       "      <td>Nintendo</td>\n",
       "      <td>15.85</td>\n",
       "      <td>12.88</td>\n",
       "      <td>3.79</td>\n",
       "      <td>3.31</td>\n",
       "      <td>35.82</td>\n",
       "    </tr>\n",
       "    <tr>\n",
       "      <th>3</th>\n",
       "      <td>Wii Sports Resort</td>\n",
       "      <td>Wii</td>\n",
       "      <td>2009.0</td>\n",
       "      <td>Sports</td>\n",
       "      <td>Nintendo</td>\n",
       "      <td>15.75</td>\n",
       "      <td>11.01</td>\n",
       "      <td>3.28</td>\n",
       "      <td>2.96</td>\n",
       "      <td>33.00</td>\n",
       "    </tr>\n",
       "    <tr>\n",
       "      <th>4</th>\n",
       "      <td>Pokemon Red/Pokemon Blue</td>\n",
       "      <td>GB</td>\n",
       "      <td>1996.0</td>\n",
       "      <td>Role-Playing</td>\n",
       "      <td>Nintendo</td>\n",
       "      <td>11.27</td>\n",
       "      <td>8.89</td>\n",
       "      <td>10.22</td>\n",
       "      <td>1.00</td>\n",
       "      <td>31.37</td>\n",
       "    </tr>\n",
       "  </tbody>\n",
       "</table>\n",
       "</div>"
      ],
      "text/plain": [
       "                       Name Platform    Year         Genre Publisher  \\\n",
       "0                Wii Sports      Wii  2006.0        Sports  Nintendo   \n",
       "1         Super Mario Bros.      NES  1985.0      Platform  Nintendo   \n",
       "2            Mario Kart Wii      Wii  2008.0        Racing  Nintendo   \n",
       "3         Wii Sports Resort      Wii  2009.0        Sports  Nintendo   \n",
       "4  Pokemon Red/Pokemon Blue       GB  1996.0  Role-Playing  Nintendo   \n",
       "\n",
       "   NA_Sales  EU_Sales  JP_Sales  Other_Sales  Global_Sales  \n",
       "0     41.49     29.02      3.77         8.46         82.74  \n",
       "1     29.08      3.58      6.81         0.77         40.24  \n",
       "2     15.85     12.88      3.79         3.31         35.82  \n",
       "3     15.75     11.01      3.28         2.96         33.00  \n",
       "4     11.27      8.89     10.22         1.00         31.37  "
      ]
     },
     "execution_count": 84,
     "metadata": {},
     "output_type": "execute_result"
    }
   ],
   "source": [
    "data = pd.read_parquet('selling_games.parquet')\n",
    "data.head()"
   ]
  },
  {
   "cell_type": "code",
   "execution_count": 85,
   "metadata": {},
   "outputs": [
    {
     "data": {
      "text/plain": [
       "(16598, 10)"
      ]
     },
     "execution_count": 85,
     "metadata": {},
     "output_type": "execute_result"
    }
   ],
   "source": [
    "data.shape"
   ]
  },
  {
   "cell_type": "code",
   "execution_count": 86,
   "metadata": {},
   "outputs": [
    {
     "name": "stdout",
     "output_type": "stream",
     "text": [
      "<class 'pandas.core.frame.DataFrame'>\n",
      "RangeIndex: 16598 entries, 0 to 16597\n",
      "Data columns (total 10 columns):\n",
      " #   Column        Non-Null Count  Dtype  \n",
      "---  ------        --------------  -----  \n",
      " 0   Name          16598 non-null  object \n",
      " 1   Platform      16598 non-null  object \n",
      " 2   Year          16327 non-null  float64\n",
      " 3   Genre         16598 non-null  object \n",
      " 4   Publisher     16540 non-null  object \n",
      " 5   NA_Sales      16598 non-null  float64\n",
      " 6   EU_Sales      16598 non-null  float64\n",
      " 7   JP_Sales      16598 non-null  float64\n",
      " 8   Other_Sales   16598 non-null  float64\n",
      " 9   Global_Sales  16598 non-null  float64\n",
      "dtypes: float64(6), object(4)\n",
      "memory usage: 1.3+ MB\n"
     ]
    }
   ],
   "source": [
    "data.info()"
   ]
  },
  {
   "cell_type": "markdown",
   "metadata": {},
   "source": [
    "**Seus campos e tipos de dados são:**\n",
    "\n",
    " * Nome - O nome do jogo\n",
    "\n",
    " * Plataforma - Plataforma de lançamento do jogo (ou seja, PC, PS4, etc.), objeto\n",
    "\n",
    " * Ano - Ano de lançamento do jogo, float\n",
    "\n",
    " * Gênero - Gênero do jogo, objeto\n",
    "\n",
    " * Editora - Editora do jogo, objeto\n",
    "\n",
    " * NA_Sales - Vendas na América do Norte (em milhões), float\n",
    "\n",
    " * EU_Sales - Vendas na Europa (em milhões), float\n",
    "\n",
    " * JP_Sales - Vendas no Japão (em milhões), float\n",
    "\n",
    " * Other_Sales - Vendas no resto do mundo (em milhões), float\n",
    "\n",
    " * Global_Sales - Total de vendas mundiais, float"
   ]
  },
  {
   "cell_type": "code",
   "execution_count": 87,
   "metadata": {},
   "outputs": [
    {
     "data": {
      "text/html": [
       "<div>\n",
       "<style scoped>\n",
       "    .dataframe tbody tr th:only-of-type {\n",
       "        vertical-align: middle;\n",
       "    }\n",
       "\n",
       "    .dataframe tbody tr th {\n",
       "        vertical-align: top;\n",
       "    }\n",
       "\n",
       "    .dataframe thead th {\n",
       "        text-align: right;\n",
       "    }\n",
       "</style>\n",
       "<table border=\"1\" class=\"dataframe\">\n",
       "  <thead>\n",
       "    <tr style=\"text-align: right;\">\n",
       "      <th></th>\n",
       "      <th>Year</th>\n",
       "      <th>NA_Sales</th>\n",
       "      <th>EU_Sales</th>\n",
       "      <th>JP_Sales</th>\n",
       "      <th>Other_Sales</th>\n",
       "      <th>Global_Sales</th>\n",
       "    </tr>\n",
       "  </thead>\n",
       "  <tbody>\n",
       "    <tr>\n",
       "      <th>count</th>\n",
       "      <td>16327.000000</td>\n",
       "      <td>16598.000000</td>\n",
       "      <td>16598.000000</td>\n",
       "      <td>16598.000000</td>\n",
       "      <td>16598.000000</td>\n",
       "      <td>16598.000000</td>\n",
       "    </tr>\n",
       "    <tr>\n",
       "      <th>mean</th>\n",
       "      <td>2006.406443</td>\n",
       "      <td>0.264667</td>\n",
       "      <td>0.146652</td>\n",
       "      <td>0.077782</td>\n",
       "      <td>0.048063</td>\n",
       "      <td>0.537441</td>\n",
       "    </tr>\n",
       "    <tr>\n",
       "      <th>std</th>\n",
       "      <td>5.828981</td>\n",
       "      <td>0.816683</td>\n",
       "      <td>0.505351</td>\n",
       "      <td>0.309291</td>\n",
       "      <td>0.188588</td>\n",
       "      <td>1.555028</td>\n",
       "    </tr>\n",
       "    <tr>\n",
       "      <th>min</th>\n",
       "      <td>1980.000000</td>\n",
       "      <td>0.000000</td>\n",
       "      <td>0.000000</td>\n",
       "      <td>0.000000</td>\n",
       "      <td>0.000000</td>\n",
       "      <td>0.010000</td>\n",
       "    </tr>\n",
       "    <tr>\n",
       "      <th>25%</th>\n",
       "      <td>2003.000000</td>\n",
       "      <td>0.000000</td>\n",
       "      <td>0.000000</td>\n",
       "      <td>0.000000</td>\n",
       "      <td>0.000000</td>\n",
       "      <td>0.060000</td>\n",
       "    </tr>\n",
       "    <tr>\n",
       "      <th>50%</th>\n",
       "      <td>2007.000000</td>\n",
       "      <td>0.080000</td>\n",
       "      <td>0.020000</td>\n",
       "      <td>0.000000</td>\n",
       "      <td>0.010000</td>\n",
       "      <td>0.170000</td>\n",
       "    </tr>\n",
       "    <tr>\n",
       "      <th>75%</th>\n",
       "      <td>2010.000000</td>\n",
       "      <td>0.240000</td>\n",
       "      <td>0.110000</td>\n",
       "      <td>0.040000</td>\n",
       "      <td>0.040000</td>\n",
       "      <td>0.470000</td>\n",
       "    </tr>\n",
       "    <tr>\n",
       "      <th>max</th>\n",
       "      <td>2020.000000</td>\n",
       "      <td>41.490000</td>\n",
       "      <td>29.020000</td>\n",
       "      <td>10.220000</td>\n",
       "      <td>10.570000</td>\n",
       "      <td>82.740000</td>\n",
       "    </tr>\n",
       "  </tbody>\n",
       "</table>\n",
       "</div>"
      ],
      "text/plain": [
       "               Year      NA_Sales      EU_Sales      JP_Sales   Other_Sales  \\\n",
       "count  16327.000000  16598.000000  16598.000000  16598.000000  16598.000000   \n",
       "mean    2006.406443      0.264667      0.146652      0.077782      0.048063   \n",
       "std        5.828981      0.816683      0.505351      0.309291      0.188588   \n",
       "min     1980.000000      0.000000      0.000000      0.000000      0.000000   \n",
       "25%     2003.000000      0.000000      0.000000      0.000000      0.000000   \n",
       "50%     2007.000000      0.080000      0.020000      0.000000      0.010000   \n",
       "75%     2010.000000      0.240000      0.110000      0.040000      0.040000   \n",
       "max     2020.000000     41.490000     29.020000     10.220000     10.570000   \n",
       "\n",
       "       Global_Sales  \n",
       "count  16598.000000  \n",
       "mean       0.537441  \n",
       "std        1.555028  \n",
       "min        0.010000  \n",
       "25%        0.060000  \n",
       "50%        0.170000  \n",
       "75%        0.470000  \n",
       "max       82.740000  "
      ]
     },
     "execution_count": 87,
     "metadata": {},
     "output_type": "execute_result"
    }
   ],
   "source": [
    "data.describe()"
   ]
  },
  {
   "cell_type": "code",
   "execution_count": 88,
   "metadata": {},
   "outputs": [
    {
     "data": {
      "text/html": [
       "<div>\n",
       "<style scoped>\n",
       "    .dataframe tbody tr th:only-of-type {\n",
       "        vertical-align: middle;\n",
       "    }\n",
       "\n",
       "    .dataframe tbody tr th {\n",
       "        vertical-align: top;\n",
       "    }\n",
       "\n",
       "    .dataframe thead th {\n",
       "        text-align: right;\n",
       "    }\n",
       "</style>\n",
       "<table border=\"1\" class=\"dataframe\">\n",
       "  <thead>\n",
       "    <tr style=\"text-align: right;\">\n",
       "      <th></th>\n",
       "      <th>Name</th>\n",
       "      <th>Platform</th>\n",
       "      <th>Genre</th>\n",
       "      <th>Publisher</th>\n",
       "    </tr>\n",
       "  </thead>\n",
       "  <tbody>\n",
       "    <tr>\n",
       "      <th>count</th>\n",
       "      <td>16598</td>\n",
       "      <td>16598</td>\n",
       "      <td>16598</td>\n",
       "      <td>16540</td>\n",
       "    </tr>\n",
       "    <tr>\n",
       "      <th>unique</th>\n",
       "      <td>11493</td>\n",
       "      <td>31</td>\n",
       "      <td>12</td>\n",
       "      <td>578</td>\n",
       "    </tr>\n",
       "    <tr>\n",
       "      <th>top</th>\n",
       "      <td>Need for Speed: Most Wanted</td>\n",
       "      <td>DS</td>\n",
       "      <td>Action</td>\n",
       "      <td>Electronic Arts</td>\n",
       "    </tr>\n",
       "    <tr>\n",
       "      <th>freq</th>\n",
       "      <td>12</td>\n",
       "      <td>2163</td>\n",
       "      <td>3316</td>\n",
       "      <td>1351</td>\n",
       "    </tr>\n",
       "  </tbody>\n",
       "</table>\n",
       "</div>"
      ],
      "text/plain": [
       "                               Name Platform   Genre        Publisher\n",
       "count                         16598    16598   16598            16540\n",
       "unique                        11493       31      12              578\n",
       "top     Need for Speed: Most Wanted       DS  Action  Electronic Arts\n",
       "freq                             12     2163    3316             1351"
      ]
     },
     "execution_count": 88,
     "metadata": {},
     "output_type": "execute_result"
    }
   ],
   "source": [
    "data.describe(include=['object', 'bool'])"
   ]
  },
  {
   "cell_type": "code",
   "execution_count": 89,
   "metadata": {},
   "outputs": [
    {
     "data": {
      "text/plain": [
       "Name              0\n",
       "Platform          0\n",
       "Year            271\n",
       "Genre             0\n",
       "Publisher        58\n",
       "NA_Sales          0\n",
       "EU_Sales          0\n",
       "JP_Sales          0\n",
       "Other_Sales       0\n",
       "Global_Sales      0\n",
       "dtype: int64"
      ]
     },
     "execution_count": 89,
     "metadata": {},
     "output_type": "execute_result"
    }
   ],
   "source": [
    "data.isnull().sum()"
   ]
  },
  {
   "cell_type": "markdown",
   "metadata": {},
   "source": [
    "<div style=\"padding: 20px; border-color: #c77220; border-radius: 10px; box-shadow: 0 2px 4px 0 rgba(0, 0, 0, 0.1); border: 2px solid #c77220;\">\n",
    "    <ul style=\"font-size: 22px; font-family: 'Arial'; line-height: 1.5em; \">\n",
    "        <li>Esse dataset contém um total de <strong>16598 linhas e 10 colunas</strong>.</li>\n",
    "        <li>Observou-se que há 271 dados faltantes na coluna Anos e 56 dados faltantes na coluna Publisher.</li>\n",
    "    </ul>\n",
    "</div>\n"
   ]
  },
  {
   "cell_type": "markdown",
   "metadata": {},
   "source": [
    "<a id=\"Visual\"></a>\n",
    "# <div style=\"text-align:center; border-radius:15px 50px; padding:7px; color:white; margin:0; font-size:110%; font-family:Pacifico; background-color:#3168a1;overflow:hidden\"><b>4. Visualizando nossos dados</b></div>"
   ]
  },
  {
   "cell_type": "markdown",
   "metadata": {},
   "source": [
    "<a id='41'></a>\n",
    "## <div style=\"text-align:center; border-radius:15px 50px; padding:7px; color:white; margin:0; font-size:100%; font-family:Pacifico; background-color:#3168a1; overflow:hidden\"><b> 4.1. Quais jogos de gênero foram mais produzidos?  </b></div>"
   ]
  },
  {
   "cell_type": "code",
   "execution_count": 90,
   "metadata": {},
   "outputs": [
    {
     "data": {
      "text/plain": [
       "Genre\n",
       "Action          3316\n",
       "Sports          2346\n",
       "Misc            1739\n",
       "Role-Playing    1488\n",
       "Shooter         1310\n",
       "Adventure       1286\n",
       "Racing          1249\n",
       "Platform         886\n",
       "Simulation       867\n",
       "Fighting         848\n",
       "Strategy         681\n",
       "Puzzle           582\n",
       "Name: count, dtype: int64"
      ]
     },
     "execution_count": 90,
     "metadata": {},
     "output_type": "execute_result"
    }
   ],
   "source": [
    "data['Genre'].value_counts()"
   ]
  },
  {
   "cell_type": "code",
   "execution_count": 91,
   "metadata": {},
   "outputs": [
    {
     "data": {
      "text/plain": [
       "(array([ 0,  1,  2,  3,  4,  5,  6,  7,  8,  9, 10, 11]),\n",
       " [Text(0, 0, 'Action'),\n",
       "  Text(1, 0, 'Sports'),\n",
       "  Text(2, 0, 'Misc'),\n",
       "  Text(3, 0, 'Role-Playing'),\n",
       "  Text(4, 0, 'Shooter'),\n",
       "  Text(5, 0, 'Adventure'),\n",
       "  Text(6, 0, 'Racing'),\n",
       "  Text(7, 0, 'Platform'),\n",
       "  Text(8, 0, 'Simulation'),\n",
       "  Text(9, 0, 'Fighting'),\n",
       "  Text(10, 0, 'Strategy'),\n",
       "  Text(11, 0, 'Puzzle')])"
      ]
     },
     "execution_count": 91,
     "metadata": {},
     "output_type": "execute_result"
    },
    {
     "data": {
      "image/png": "[encoded data removed]",
      "text/plain": [
       "<Figure size 1500x1000 with 1 Axes>"
      ]
     },
     "metadata": {},
     "output_type": "display_data"
    }
   ],
   "source": [
    "plt.figure(figsize=(15, 10))\n",
    "sns.countplot(x=\"Genre\", data=data, order = data['Genre'].value_counts().index)\n",
    "plt.xticks(rotation=90)"
   ]
  },
  {
   "cell_type": "markdown",
   "metadata": {},
   "source": [
    "<div style=\"padding: 20px; border-color: #c77220; border-radius: 10px; box-shadow: 0 2px 4px 0 rgba(0, 0, 0, 0.1); border: 2px solid #c77220;\">\n",
    "    <ul style=\"font-size: 22px; font-family: 'Arial'; line-height: 1.5em; \">\n",
    "        <li>A maioria dos amantes de games preferem o gênero Ação(3316) e Esporte(2346).\n",
    "    </ul>\n",
    "</div>"
   ]
  },
  {
   "cell_type": "markdown",
   "metadata": {},
   "source": [
    "<a id='42'></a>\n",
    "## <div style=\"text-align:center; border-radius:15px 50px; padding:7px; color:white; margin:0; font-size:100%; font-family:Pacifico; background-color:#3168a1; overflow:hidden\"><b> 4.2 Qual ano teve mais lançamentos de jogos? </b></div>"
   ]
  },
  {
   "cell_type": "code",
   "execution_count": 92,
   "metadata": {},
   "outputs": [
    {
     "data": {
      "text/plain": [
       "(array([ 0,  1,  2,  3,  4,  5,  6,  7,  8,  9, 10, 11, 12, 13, 14, 15, 16,\n",
       "        17, 18, 19, 20, 21, 22, 23, 24, 25, 26, 27, 28, 29, 30, 31, 32, 33,\n",
       "        34, 35, 36, 37, 38]),\n",
       " [Text(0, 0, '2009.0'),\n",
       "  Text(1, 0, '2008.0'),\n",
       "  Text(2, 0, '2010.0'),\n",
       "  Text(3, 0, '2007.0'),\n",
       "  Text(4, 0, '2011.0'),\n",
       "  Text(5, 0, '2006.0'),\n",
       "  Text(6, 0, '2005.0'),\n",
       "  Text(7, 0, '2002.0'),\n",
       "  Text(8, 0, '2003.0'),\n",
       "  Text(9, 0, '2004.0'),\n",
       "  Text(10, 0, '2012.0'),\n",
       "  Text(11, 0, '2015.0'),\n",
       "  Text(12, 0, '2014.0'),\n",
       "  Text(13, 0, '2013.0'),\n",
       "  Text(14, 0, '2001.0'),\n",
       "  Text(15, 0, '1998.0'),\n",
       "  Text(16, 0, '2000.0'),\n",
       "  Text(17, 0, '2016.0'),\n",
       "  Text(18, 0, '1999.0'),\n",
       "  Text(19, 0, '1997.0'),\n",
       "  Text(20, 0, '1996.0'),\n",
       "  Text(21, 0, '1995.0'),\n",
       "  Text(22, 0, '1994.0'),\n",
       "  Text(23, 0, '1993.0'),\n",
       "  Text(24, 0, '1981.0'),\n",
       "  Text(25, 0, '1992.0'),\n",
       "  Text(26, 0, '1991.0'),\n",
       "  Text(27, 0, '1982.0'),\n",
       "  Text(28, 0, '1986.0'),\n",
       "  Text(29, 0, '1989.0'),\n",
       "  Text(30, 0, '1983.0'),\n",
       "  Text(31, 0, '1987.0'),\n",
       "  Text(32, 0, '1990.0'),\n",
       "  Text(33, 0, '1988.0'),\n",
       "  Text(34, 0, '1985.0'),\n",
       "  Text(35, 0, '1984.0'),\n",
       "  Text(36, 0, '1980.0'),\n",
       "  Text(37, 0, '2017.0'),\n",
       "  Text(38, 0, '2020.0')])"
      ]
     },
     "execution_count": 92,
     "metadata": {},
     "output_type": "execute_result"
    },
    {
     "data": {
      "image/png": "[encoded data removed]",
      "text/plain": [
       "<Figure size 1500x1000 with 1 Axes>"
      ]
     },
     "metadata": {},
     "output_type": "display_data"
    }
   ],
   "source": [
    "plt.figure(figsize=(15, 10))\n",
    "sns.countplot(x=\"Year\", data=data, order = data.groupby(by=['Year'])['Name'].count().sort_values(ascending=False).index)\n",
    "plt.xticks(rotation=90)"
   ]
  },
  {
   "cell_type": "code",
   "execution_count": 93,
   "metadata": {},
   "outputs": [],
   "source": [
    "drop_row_index = data[data['Year'] > 2015].index\n",
    "data = data.drop(drop_row_index)"
   ]
  },
  {
   "cell_type": "markdown",
   "metadata": {},
   "source": [
    "<div style=\"padding: 20px; border-color: #c77220; border-radius: 10px; box-shadow: 0 2px 4px 0 rgba(0, 0, 0, 0.1); border: 2px solid #c77220;\">\n",
    "    <ul style=\"font-size: 22px; font-family: 'Arial'; line-height: 1.5em; \">\n",
    "        <li>2009: 1431 \n",
    "        <li>2008: 1428\n",
    "        <li>2010: 1259\n",
    "        <li>2007: 1202\n",
    "        <li>2011: 1139\n",
    "        <li>Removi alguns dados incompletos, pois atraves do gráfico percebe-se que a partir do ano 2016 os dados não estão totalmente concluídos.\n",
    "        \n",
    " </li>\n",
    "    </ul>\n",
    "</div"
   ]
  },
  {
   "cell_type": "markdown",
   "metadata": {},
   "source": [
    "<a id='43'></a>\n",
    "## <div style=\"text-align:center; border-radius:15px 50px; padding:7px; color:white; margin:0; font-size:100%; font-family:Pacifico; background-color:#3168a1; overflow:hidden\"><b>4.3 Principais jogos lançados por gênero nesses 5 anos. </b></div>"
   ]
  },
  {
   "cell_type": "code",
   "execution_count": 94,
   "metadata": {},
   "outputs": [
    {
     "data": {
      "text/plain": [
       "(array([0, 1, 2, 3, 4]),\n",
       " [Text(0, 0, '2009.0'),\n",
       "  Text(1, 0, '2008.0'),\n",
       "  Text(2, 0, '2010.0'),\n",
       "  Text(3, 0, '2007.0'),\n",
       "  Text(4, 0, '2011.0')])"
      ]
     },
     "execution_count": 94,
     "metadata": {},
     "output_type": "execute_result"
    },
    {
     "data": {
      "image/png": "[encoded data removed]",
      "text/plain": [
       "<Figure size 3000x1000 with 1 Axes>"
      ]
     },
     "metadata": {},
     "output_type": "display_data"
    }
   ],
   "source": [
    "plt.figure(figsize=(30, 10))\n",
    "sns.countplot(x=\"Year\", data=data, hue='Genre', order=data.Year.value_counts().iloc[:5].index)\n",
    "plt.xticks(size=16, rotation=90)"
   ]
  },
  {
   "cell_type": "code",
   "execution_count": null,
   "metadata": {},
   "outputs": [],
   "source": []
  },
  {
   "cell_type": "markdown",
   "metadata": {},
   "source": [
    "<div style=\"padding: 20px; border-color: #c77220; border-radius: 10px; box-shadow: 0 2px 4px 0 rgba(0, 0, 0, 0.1); border: 2px solid #c77220;\">\n",
    "    <ul style=\"font-size: 22px; font-family: 'Arial'; line-height: 1.5em; \">\n",
    "        <li>Jogos de Ação sempre lideram o número de lançamentos ano após ano</li>\n",
    " </li>\n",
    "    </ul>\n",
    "</div"
   ]
  },
  {
   "cell_type": "markdown",
   "metadata": {},
   "source": [
    "<a id='44'></a>\n",
    "## <div style=\"text-align:center; border-radius:15px 50px; padding:7px; color:white; margin:0; font-size:100%; font-family:Pacifico; background-color:#3168a1; overflow:hidden\"><b>4.4 Qual ano teve as maiores vendas em todo o mundo? </b></div>"
   ]
  },
  {
   "cell_type": "code",
   "execution_count": 95,
   "metadata": {},
   "outputs": [],
   "source": [
    "data_year = data.groupby(by=['Year'])['Global_Sales'].sum()\n",
    "data_year = data_year.reset_index()\n",
    "# data_year.sort_values(by=['Global_Sales'], ascending=False)\n"
   ]
  },
  {
   "cell_type": "code",
   "execution_count": 96,
   "metadata": {},
   "outputs": [
    {
     "data": {
      "text/plain": [
       "(array([ 0,  1,  2,  3,  4,  5,  6,  7,  8,  9, 10, 11, 12, 13, 14, 15, 16,\n",
       "        17, 18, 19, 20, 21, 22, 23, 24, 25, 26, 27, 28, 29, 30, 31, 32, 33,\n",
       "        34, 35]),\n",
       " [Text(0, 0, '1980.0'),\n",
       "  Text(1, 0, '1981.0'),\n",
       "  Text(2, 0, '1982.0'),\n",
       "  Text(3, 0, '1983.0'),\n",
       "  Text(4, 0, '1984.0'),\n",
       "  Text(5, 0, '1985.0'),\n",
       "  Text(6, 0, '1986.0'),\n",
       "  Text(7, 0, '1987.0'),\n",
       "  Text(8, 0, '1988.0'),\n",
       "  Text(9, 0, '1989.0'),\n",
       "  Text(10, 0, '1990.0'),\n",
       "  Text(11, 0, '1991.0'),\n",
       "  Text(12, 0, '1992.0'),\n",
       "  Text(13, 0, '1993.0'),\n",
       "  Text(14, 0, '1994.0'),\n",
       "  Text(15, 0, '1995.0'),\n",
       "  Text(16, 0, '1996.0'),\n",
       "  Text(17, 0, '1997.0'),\n",
       "  Text(18, 0, '1998.0'),\n",
       "  Text(19, 0, '1999.0'),\n",
       "  Text(20, 0, '2000.0'),\n",
       "  Text(21, 0, '2001.0'),\n",
       "  Text(22, 0, '2002.0'),\n",
       "  Text(23, 0, '2003.0'),\n",
       "  Text(24, 0, '2004.0'),\n",
       "  Text(25, 0, '2005.0'),\n",
       "  Text(26, 0, '2006.0'),\n",
       "  Text(27, 0, '2007.0'),\n",
       "  Text(28, 0, '2008.0'),\n",
       "  Text(29, 0, '2009.0'),\n",
       "  Text(30, 0, '2010.0'),\n",
       "  Text(31, 0, '2011.0'),\n",
       "  Text(32, 0, '2012.0'),\n",
       "  Text(33, 0, '2013.0'),\n",
       "  Text(34, 0, '2014.0'),\n",
       "  Text(35, 0, '2015.0')])"
      ]
     },
     "execution_count": 96,
     "metadata": {},
     "output_type": "execute_result"
    },
    {
     "data": {
      "image/png": "[encoded data removed]",
      "text/plain": [
       "<Figure size 1500x1000 with 1 Axes>"
      ]
     },
     "metadata": {},
     "output_type": "display_data"
    }
   ],
   "source": [
    "plt.figure(figsize=(15, 10))\n",
    "sns.barplot(x=\"Year\", y=\"Global_Sales\", data=data_year)\n",
    "plt.xticks(rotation=90)"
   ]
  },
  {
   "cell_type": "markdown",
   "metadata": {},
   "source": [
    "<div style=\"padding: 20px; border-color: #c77220; border-radius: 10px; box-shadow: 0 2px 4px 0 rgba(0, 0, 0, 0.1); border: 2px solid #c77220;\">\n",
    "    <ul style=\"font-size: 22px; font-family: 'Arial'; line-height: 1.5em; \">\n",
    "        <li>2008: 678.90\n",
    "        <li>2009: 667.30\n",
    "        <li>2007: 611.13\n",
    "        <li>2010: 600.45\n",
    "        <li>2006: 521.04</li>\n",
    " </li>\n",
    "    </ul>\n",
    "</div"
   ]
  },
  {
   "cell_type": "markdown",
   "metadata": {
    "vscode": {
     "languageId": "html"
    }
   },
   "source": [
    "<a id=\"Limitacoes\"></a>\n",
    "# <div style=\"text-align:center; border-radius:15px 50px; padding:7px; color:white; margin:0; font-size:110%; font-family:Pacifico; background-color:#3168a1;overflow:hidden\"><b>5. Identificando limitações</b></div>"
   ]
  },
  {
   "cell_type": "code",
   "execution_count": 97,
   "metadata": {},
   "outputs": [],
   "source": [
    "# Imputação de valores numéricos com a mediana\n",
    "data['Year'] = data['Year'].fillna(data['Year'].median())\n",
    "\n",
    "# Imputação de valores categóricos com a moda\n",
    "data['Platform'] = data['Platform'].fillna(data['Platform'].mode()[0])\n",
    "data['Genre'] = data['Genre'].fillna(data['Genre'].mode()[0])\n",
    "data['Publisher'] = data['Publisher'].fillna(data['Publisher'].mode()[0])\n"
   ]
  },
  {
   "cell_type": "code",
   "execution_count": 98,
   "metadata": {},
   "outputs": [],
   "source": [
    "# Imputação de valores faltantes nas vendas regionais\n",
    "data['NA_Sales'] = data.groupby(['Platform', 'Genre'])['NA_Sales'].transform(lambda x: x.fillna(x.mean()))\n",
    "data['EU_Sales'] = data.groupby(['Platform', 'Genre'])['EU_Sales'].transform(lambda x: x.fillna(x.mean()))\n",
    "data['JP_Sales'] = data.groupby(['Platform', 'Genre'])['JP_Sales'].transform(lambda x: x.fillna(x.mean()))\n",
    "data['Other_Sales'] = data.groupby(['Platform', 'Genre'])['Other_Sales'].transform(lambda x: x.fillna(x.mean()))\n"
   ]
  },
  {
   "cell_type": "markdown",
   "metadata": {},
   "source": [
    "<a id=\"Medias\"></a>\n",
    "# <div style=\"text-align:center; border-radius:15px 50px; padding:7px; color:white; margin:0; font-size:110%; font-family:Pacifico; background-color:#3168a1;overflow:hidden\"><b>6. Comparação de médias</b></div>"
   ]
  },
  {
   "cell_type": "code",
   "execution_count": 99,
   "metadata": {},
   "outputs": [],
   "source": [
    "# Definir o tamanho da amostra em 10%\n",
    "sample_size = int(0.1 * len(data))\n",
    "\n",
    "\n",
    "# Selecionar a amostra aleatória\n",
    "sample = data.sample(n=sample_size, random_state=42)\n",
    "# random_state é usado para garantir a reprodutibilidade e 42 é um número aleatorio"
   ]
  },
  {
   "cell_type": "code",
   "execution_count": 100,
   "metadata": {},
   "outputs": [
    {
     "name": "stdout",
     "output_type": "stream",
     "text": [
      "Médias de Vendas por Região - População Total:\n",
      "NA_Sales       0.268924\n",
      "EU_Sales       0.148146\n",
      "JP_Sales       0.078601\n",
      "Other_Sales    0.048614\n",
      "dtype: float64\n"
     ]
    }
   ],
   "source": [
    "# Calcular as médias de vendas por região para a população total\n",
    "mean_sales_total = data[['NA_Sales', 'EU_Sales', 'JP_Sales', 'Other_Sales']].mean()\n",
    "print(\"Médias de Vendas por Região - População Total:\")\n",
    "print(mean_sales_total)\n"
   ]
  },
  {
   "cell_type": "code",
   "execution_count": 101,
   "metadata": {},
   "outputs": [
    {
     "name": "stdout",
     "output_type": "stream",
     "text": [
      "Médias de Vendas por Região - Amostra:\n",
      "NA_Sales       0.254215\n",
      "EU_Sales       0.150671\n",
      "JP_Sales       0.081046\n",
      "Other_Sales    0.051274\n",
      "dtype: float64\n"
     ]
    }
   ],
   "source": [
    "# Calcular as médias de vendas por região para a amostra\n",
    "mean_sales_sample = sample[['NA_Sales', 'EU_Sales', 'JP_Sales', 'Other_Sales']].mean()\n",
    "print(\"Médias de Vendas por Região - Amostra:\")\n",
    "print(mean_sales_sample)\n"
   ]
  },
  {
   "cell_type": "code",
   "execution_count": 102,
   "metadata": {},
   "outputs": [
    {
     "name": "stdout",
     "output_type": "stream",
     "text": [
      "Resultados do Teste t:\n",
      "{'NA_Sales': {'t_statistic': 0.7613651419838264, 'p_value': 0.446526294638105}, 'EU_Sales': {'t_statistic': -0.18828263199095271, 'p_value': 0.8506746551389467}, 'JP_Sales': {'t_statistic': -0.2953075553656008, 'p_value': 0.7677904067085397}, 'Other_Sales': {'t_statistic': -0.4252499233264505, 'p_value': 0.6707046189018921}}\n"
     ]
    }
   ],
   "source": [
    "# Realizar o teste t para cada região\n",
    "t_test_results = {}\n",
    "regions = ['NA_Sales', 'EU_Sales', 'JP_Sales', 'Other_Sales']\n",
    "\n",
    "for region in regions:\n",
    "    t_stat, p_value = ttest_ind(data[region], sample[region], equal_var=False)\n",
    "    t_test_results[region] = {'t_statistic': t_stat, 'p_value': p_value}\n",
    "\n",
    "print(\"Resultados do Teste t:\")\n",
    "print(t_test_results)\n"
   ]
  },
  {
   "cell_type": "markdown",
   "metadata": {},
   "source": [
    "<div style=\"padding: 20px; border-color: #c77220; border-radius: 10px; box-shadow: 0 2px 4px 0 rgba(0, 0, 0, 0.1); border: 2px solid #c77220;\">\n",
    "    <ul style=\"font-size: 22px; font-family: 'Arial'; line-height: 1.5em; \">\n",
    "        <li>NA_Sales: O valor de p é 0.9306, que é muito maior que 0.05. Isso indica que não há uma diferença estatisticamente significativa entre as vendas na América do Norte na população total e na amostra.\n",
    "        <li>EU_Sales: O valor de p é 0.9417, que é muito maior que 0.05. Isso também sugere que não há uma diferença estatisticamente significativa nas vendas na Europa entre a população total e a amostra.\n",
    "        <li>JP_Sales: O valor de p é 0.6793, que ainda é maior que 0.05, indicando que não há uma diferença estatisticamente significativa nas vendas no Japão entre a população total e a amostra.\n",
    "        <li>Other_Sales: O valor de p é 0.8205, que é maior que 0.05, sugerindo que não há uma diferença estatisticamente significativa nas vendas em outras regiões entre a população total e a amostra.\n",
    "        <li>Com base nos valores de p obtidos, podemos concluir que não há evidências estatísticas suficientes para afirmar que as médias de vendas nas regiões (NA, EU, JP, Other) são diferentes entre a população total e a amostra. As amostras parecem ser representativas da população total em termos de vendas regionais.</li>\n",
    " </li>\n",
    "    </ul>\n",
    "</div"
   ]
  },
  {
   "cell_type": "markdown",
   "metadata": {},
   "source": [
    "<a id=\"Confianca\"></a>\n",
    "# <div style=\"text-align:center; border-radius:15px 50px; padding:7px; color:white; margin:0; font-size:110%; font-family:Pacifico; background-color:#3168a1;overflow:hidden\"><b>7. Intervalo de Confiança</b></div>"
   ]
  },
  {
   "cell_type": "code",
   "execution_count": 103,
   "metadata": {},
   "outputs": [],
   "source": [
    "# Calcular as médias e desvios padrão de vendas globais por categoria (gênero)\n",
    "mean_sales_by_genre = data.groupby('Genre')['Global_Sales'].mean()\n",
    "std_sales_by_genre = data.groupby('Genre')['Global_Sales'].std()\n",
    "n_sales_by_genre = data.groupby('Genre')['Global_Sales'].count()\n"
   ]
  },
  {
   "cell_type": "code",
   "execution_count": 104,
   "metadata": {},
   "outputs": [
    {
     "name": "stdout",
     "output_type": "stream",
     "text": [
      "Intervalos de Confiança para as Médias de Vendas por Categoria:\n",
      "Action: (0.5009858570493255, 0.5824058826252678)\n",
      "Adventure: (0.16070010032610976, 0.21826156101574323)\n",
      "Fighting: (0.46832515609323155, 0.5989410309571281)\n",
      "Misc: (0.4075392192519796, 0.5323678115440692)\n",
      "Platform: (0.7746107651183037, 1.118768230315486)\n",
      "Puzzle: (0.2939975836672246, 0.547754993652363)\n",
      "Racing: (0.500680619347384, 0.6879280055509073)\n",
      "Role-Playing: (0.5474548813995285, 0.7258092956405823)\n",
      "Shooter: (0.6969719481470491, 0.8979419798654704)\n",
      "Simulation: (0.3764111668056806, 0.5372877830192901)\n",
      "Sports: (0.48449038137942113, 0.6561768629879964)\n",
      "Strategy: (0.2205819210195994, 0.29989497912943197)\n"
     ]
    }
   ],
   "source": [
    "confidence_level = 0.95\n",
    "z_score = norm.ppf((1 + confidence_level) / 2)\n",
    "\n",
    "# Função para calcular o intervalo de confiança\n",
    "def confidence_interval(mean, std, n, z_score):\n",
    "    margin_of_error = z_score * (std / np.sqrt(n))\n",
    "    return (mean - margin_of_error, mean + margin_of_error)\n",
    "\n",
    "# Calcular intervalos de confiança para cada categoria\n",
    "confidence_intervals = {}\n",
    "for genre in mean_sales_by_genre.index:\n",
    "    mean = mean_sales_by_genre[genre]\n",
    "    std = std_sales_by_genre[genre]\n",
    "    n = n_sales_by_genre[genre]\n",
    "    ci = confidence_interval(mean, std, n, z_score)\n",
    "    confidence_intervals[genre] = ci\n",
    "\n",
    "print(\"Intervalos de Confiança para as Médias de Vendas por Categoria:\")\n",
    "for genre, ci in confidence_intervals.items():\n",
    "    print(f\"{genre}: {ci}\")\n"
   ]
  },
  {
   "cell_type": "markdown",
   "metadata": {},
   "source": [
    "<div style=\"padding: 20px; border-color: #c77220; border-radius: 10px; box-shadow: 0 2px 4px 0 rgba(0, 0, 0, 0.1); border: 2px solid #c77220;\">\n",
    "    <ul style=\"font-size: 22px; font-family: 'Arial'; line-height: 1.5em; \">\n",
    "        <li>Action: A média verdadeira das vendas globais para jogos de ação está entre 0.488 e 0.567.\n",
    "        <li>Adventure: A média verdadeira das vendas globais para jogos de aventura está entre 0.158 e 0.214.\n",
    "        <li>Fighting: A média verdadeira das vendas globais para jogos de luta está entre 0.465 e 0.594.\n",
    "        <li>Misc: A média verdadeira das vendas globais para jogos miscelâneos está entre 0.404 e 0.527.\n",
    "        <li>Platform: A média verdadeira das vendas globais para jogos de plataforma está entre 0.768 e 1.108.</li>\n",
    "        <li>Puzzle: A média verdadeira das vendas globais para jogos de quebra-cabeça está entre 0.293 e 0.547.</li>\n",
    "        <li>Racing: A média verdadeira das vendas globais para jogos de corrida está entre 0.494 e 0.678.</li>\n",
    "        <li>Role-Playing: A média verdadeira das vendas globais para jogos de RPG está entre 0.536 e 0.710.\n",
    "        <li>Shooter: A média verdadeira das vendas globais para jogos de tiro está entre 0.693 e 0.890.\n",
    "        <li>Simulation: A média verdadeira das vendas globais para jogos de simulação está entre 0.372 e 0.532.\n",
    "        <li>Sports: A média verdadeira das vendas globais para jogos de esportes está entre 0.483 e 0.652.\n",
    "        <li>Strategy: A média verdadeira das vendas globais para jogos de estratégia está entre 0.218 e 0.296.\n",
    "\n",
    "\n",
    " </li>\n",
    "    </ul>\n",
    "</div"
   ]
  },
  {
   "cell_type": "markdown",
   "metadata": {},
   "source": [
    "<a id=\"Anova\"></a>\n",
    "# <div style=\"text-align:center; border-radius:15px 50px; padding:7px; color:white; margin:0; font-size:110%; font-family:Pacifico; background-color:#3168a1;overflow:hidden\"><b>8. ANOVA</b></div>"
   ]
  },
  {
   "cell_type": "code",
   "execution_count": 105,
   "metadata": {},
   "outputs": [
    {
     "name": "stdout",
     "output_type": "stream",
     "text": [
      "['Sports' 'Platform' 'Racing' 'Role-Playing' 'Puzzle' 'Misc' 'Shooter'\n",
      " 'Simulation' 'Action' 'Fighting' 'Adventure' 'Strategy']\n",
      "                sum_sq       df        F        PR(>F)\n",
      "C(Genre)    477.523492     11.0  17.8303  8.048653e-36\n",
      "Residual  39534.472674  16238.0      NaN           NaN\n"
     ]
    }
   ],
   "source": [
    "# Preparar os dados para ANOVA\n",
    "# Filtrar apenas as colunas necessárias\n",
    "data_anova = data[['Genre', 'Global_Sales']].dropna()\n",
    "\n",
    "# Verificar as categorias de jogos\n",
    "print(data_anova['Genre'].unique())\n",
    "\n",
    "# Utilizar o statsmodels para realizar a ANOVA\n",
    "# Construir o modelo OLS\n",
    "model = ols('Global_Sales ~ C(Genre)', data=data_anova).fit()\n",
    "\n",
    "# Realizar a ANOVA\n",
    "anova_table = sm.stats.anova_lm(model, typ=2)\n",
    "print(anova_table)\n"
   ]
  },
  {
   "cell_type": "markdown",
   "metadata": {},
   "source": [
    "<div style=\"padding: 20px; border-color: #c77220; border-radius: 10px; box-shadow: 0 2px 4px 0 rgba(0, 0, 0, 0.1); border: 2px solid #c77220;\">\n",
    "    <ul style=\"font-size: 22px; font-family: 'Arial'; line-height: 1.5em; \">\n",
    "        <li>Os resultados da ANOVA mostram que existe uma diferença estatisticamente significativa nas vendas globais médias entre os diferentes gêneros de jogos. Isso é evidenciado pelo valor F alto (18.214937) e o valor-p extremamente baixo (1.080867e-36), que é muito menor do que o nível de significância comum de 0.05. Isso sugere que pelo menos um dos gêneros de jogos tem uma média de vendas globais que é significativamente diferente dos outros. </li>\n",
    " </li>\n",
    "    </ul>\n",
    "</div"
   ]
  },
  {
   "cell_type": "markdown",
   "metadata": {},
   "source": [
    "<a id=\"Regressao\"></a>\n",
    "# <div style=\"text-align:center; border-radius:15px 50px; padding:7px; color:white; margin:0; font-size:110%; font-family:Pacifico; background-color:#3168a1;overflow:hidden\"><b>9. Regressão linear</b></div>"
   ]
  }
 ],
 "metadata": {
  "kernelspec": {
   "display_name": "base",
   "language": "python",
   "name": "python3"
  },
  "language_info": {
   "codemirror_mode": {
    "name": "ipython",
    "version": 3
   },
   "file_extension": ".py",
   "mimetype": "text/x-python",
   "name": "python",
   "nbconvert_exporter": "python",
   "pygments_lexer": "ipython3",
   "version": "3.11.7"
  }
 },
 "nbformat": 4,
 "nbformat_minor": 2
}
